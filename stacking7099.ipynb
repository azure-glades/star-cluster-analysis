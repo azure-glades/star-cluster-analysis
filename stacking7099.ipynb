{
 "cells": [
  {
   "cell_type": "code",
   "execution_count": 6,
   "metadata": {},
   "outputs": [
    {
     "ename": "",
     "evalue": "",
     "output_type": "error",
     "traceback": [
      "\u001b[1;31mRunning cells with '.venv (Python 3.12.3)' requires the ipykernel package.\n",
      "\u001b[1;31mRun the following command to install 'ipykernel' into the Python environment. \n",
      "\u001b[1;31mCommand: '/home/azureglades/Coding/pycode/star-cluster-analysis/.venv/bin/python -m pip install ipykernel -U --force-reinstall'"
     ]
    }
   ],
   "source": [
    "import numpy as np\n",
    "from astropy.io import fits\n",
    "from astropy.visualization import make_lupton_rgb\n",
    "import matplotlib.pyplot as plt\n",
    "from scipy.ndimage import gaussian_filter\n",
    "import cv2 as cv\n",
    "\n",
    "#image_list = [\"ngc7099/hlsp_hugs_hst_wfc3-uvis_ngc7099_f275w_v1_stack-0725s.fits\", \"ngc7099/hlsp_hugs_hst_wfc3-uvis_ngc7099_f336w_v1_stack-0303s.fits\",\"ngc7099/hlsp_hugs_hst_wfc3-uvis_ngc7099_f438w_v1_stack-0065s.fits\", \"ngc7099/hlsp_hugs_hst_acs-wfc_ngc7099_f606w_v1_stack-0007s.fits\",\"ngc7099/hlsp_hugs_hst_acs-wfc_ngc7099_f606w_v1_stack-0140s.fits\",\"ngc7099/hlsp_hugs_hst_acs-wfc_ngc7099_f814w_v1_stack-0007s.fits\",\"ngc7099/hlsp_hugs_hst_acs-wfc_ngc7099_f814w_v1_stack-0140s.fits\"]\n",
    "image_list = [\"ngc7099/hlsp_hugs_hst_wfc3-uvis_ngc7099_f336w_v1_stack-0303s.fits\",\"ngc7099/hlsp_hugs_hst_acs-wfc_ngc7099_f606w_v1_stack-0140s.fits\",\"ngc7099/hlsp_hugs_hst_acs-wfc_ngc7099_f814w_v1_stack-0140s.fits\"]\n",
    "\n",
    "images = [fits.getdata(file) for file in image_list]\n",
    "\n",
    "norm_images = [img[2000:8000, 2000:8000]/ np.percentile(img[2000:8000, 2000:8000], 99) for img in images]\n",
    "\n",
    "filtered_images = [gaussian_filter(img, sigma=1) for img in norm_images]\n",
    "\n",
    "rgb_image = make_lupton_rgb(filtered_images[2], filtered_images[1], filtered_images[0], stretch=1, Q=1)\n",
    "\n",
    "p0, p100 = np.percentile(rgb_image, (0, 100))\n",
    "rgb_image = np.clip((rgb_image - p0) / (p100 - p0), 0, 1)\n",
    "rgb_image = np.flipud(rgb_image)\n",
    "rgb_image_8bit = (rgb_image*255).astype(np.uint8)\n",
    "rgb_image_bgr = cv.cvtColor(rgb_image_8bit, cv.COLOR_RGB2BGR)\n",
    "cv.imwrite('ngc7099.png', rgb_image_bgr)"
   ]
  },
  {
   "cell_type": "code",
   "execution_count": 3,
   "metadata": {},
   "outputs": [
    {
     "data": {
      "text/plain": [
       "True"
      ]
     },
     "execution_count": 3,
     "metadata": {},
     "output_type": "execute_result"
    }
   ],
   "source": [
    "import numpy as np\n",
    "from astropy.io import fits\n",
    "import matplotlib.pyplot as plt\n",
    "from scipy.ndimage import gaussian_filter\n",
    "import cv2 as cv\n",
    "\n",
    "image_list = [\"ngc7099/hlsp_hugs_hst_wfc3-uvis_ngc7099_f275w_v1_stack-0725s.fits\", \n",
    "              \"ngc7099/hlsp_hugs_hst_wfc3-uvis_ngc7099_f336w_v1_stack-0303s.fits\",\n",
    "              \"ngc7099/hlsp_hugs_hst_wfc3-uvis_ngc7099_f438w_v1_stack-0065s.fits\",\n",
    "              \"ngc7099/hlsp_hugs_hst_acs-wfc_ngc7099_f606w_v1_stack-0140s.fits\",\n",
    "              \"ngc7099/hlsp_hugs_hst_acs-wfc_ngc7099_f606w_v1_stack-0007s.fits\",\n",
    "              \"ngc7099/hlsp_hugs_hst_acs-wfc_ngc7099_f814w_v1_stack-0140s.fits\",\n",
    "              \"ngc7099/hlsp_hugs_hst_acs-wfc_ngc7099_f814w_v1_stack-0007s.fits\"]\n",
    "\n",
    "\n",
    "\n",
    "images = [fits.getdata(image) for image in image_list]\n",
    "norm_images = [img[2000:8000, 2000:8000] / np.percentile(img[2000:8000, 2000:8000], 99) for img in images]\n",
    "\n",
    "R = norm_images[5] * 0#.7 + norm_images[6] * 0.3\n",
    "G = norm_images[3] * 0.7 + norm_images[4] * 0.3 \n",
    "B = norm_images[2] * 0#.5 + norm_images[1] * 0.25 + norm_images[0] * 0.25\n",
    "\n",
    "rgb_image = np.stack([B, G, R], axis=-1)\n",
    "\n",
    "rgb_image = gaussian_filter(rgb_image, sigma=1)\n",
    "\n",
    "rgb_image = np.clip(rgb_image, 0, 1)\n",
    "\n",
    "rgb_image_8bit = (rgb_image * 255).astype(np.uint8)\n",
    "\n",
    "cv.imwrite('ngc7099_fullstack_green.png', rgb_image_8bit)\n",
    " "
   ]
  },
  {
   "cell_type": "code",
   "execution_count": 3,
   "metadata": {},
   "outputs": [
    {
     "data": {
      "text/plain": [
       "True"
      ]
     },
     "execution_count": 3,
     "metadata": {},
     "output_type": "execute_result"
    }
   ],
   "source": [
    "#USING LUPTON SCHEME\n",
    "from astropy.visualization import make_lupton_rgb\n",
    "\n",
    "rgb_image = make_lupton_rgb(R, G, B, stretch=1, Q=1)\n",
    "p0, p100 = np.percentile(rgb_image, (0, 100))\n",
    "rgb_image = np.clip((rgb_image - p0) / (p100 - p0), 0, 1)\n",
    "rgb_image = np.flipud(rgb_image)\n",
    "rgb_image_8bit = (rgb_image*255).astype(np.uint8)\n",
    "rgb_image_bgr = cv.cvtColor(rgb_image_8bit, cv.COLOR_RGB2BGR)\n",
    "cv.imwrite('ngc7099_fullstack_lupton.png', rgb_image_bgr)"
   ]
  }
 ],
 "metadata": {
  "kernelspec": {
   "display_name": ".venv",
   "language": "python",
   "name": "python3"
  },
  "language_info": {
   "codemirror_mode": {
    "name": "ipython",
    "version": 3
   },
   "file_extension": ".py",
   "mimetype": "text/x-python",
   "name": "python",
   "nbconvert_exporter": "python",
   "pygments_lexer": "ipython3",
   "version": "3.12.3"
  }
 },
 "nbformat": 4,
 "nbformat_minor": 2
}
